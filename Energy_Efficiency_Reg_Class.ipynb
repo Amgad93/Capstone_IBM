{
 "cells": [
  {
   "cell_type": "markdown",
   "metadata": {},
   "source": [
    "# Energy efficiency (From UCI Machine Learning Repository)\n",
    "\n",
    "The provided dataset looks into assessing the heating load and cooling load requirements of buildings (that is, energy efficiency) as a function of building parameters."
   ]
  },
  {
   "cell_type": "markdown",
   "metadata": {},
   "source": [
    "## Dataset Information\n",
    "\n",
    "Energy analysis is performed using 12 different building shapes simulated in Ecotect. The buildings differ with respect to the glazing area, the glazing area distribution, and the orientation, amongst other parameters. We simulate various settings as functions of the afore-mentioned characteristics to obtain 768 building shapes."
   ]
  },
  {
   "cell_type": "markdown",
   "metadata": {},
   "source": [
    "The dataset consists of 8 attributes and there exists 768 samples."
   ]
  },
  {
   "cell_type": "markdown",
   "metadata": {},
   "source": [
    "## Attribute Information\n",
    "\n",
    "The dataset contains eight attributes (or features, denoted by X1...X8) and two responses (or outcomes, denoted by y1 and y2).\n",
    "\n",
    "| Attribute Name | Attribute Description     |\n",
    "| -------------  |:-----------------         |\n",
    "| X1             | Relative Compactness      |\n",
    "| X2             | Surface Area              | \n",
    "| X3             | Wall Area                 | \n",
    "| X4             | Roof Area                 | \n",
    "| X5             | Overall Height            | \n",
    "| X6             | Orientation               | \n",
    "| X7             | Glazing Area              | \n",
    "| X8             | Glazing Area Distribution | \n",
    "| y1             | Heating Load              | \n",
    "| y2             | Cooling Load              | \n"
   ]
  },
  {
   "cell_type": "markdown",
   "metadata": {},
   "source": [
    "## Objective\n",
    "\n",
    "The aim is to use the measurements of the aforementioned attributes to predict the heating load (y1) of a given building. This is achieved by building a regression model since y1 is a continuous variable, in addition to a classification model by quantaizing y1"
   ]
  },
  {
   "cell_type": "markdown",
   "metadata": {},
   "source": [
    "### Source\n",
    "\n",
    "The dataset was created by Angeliki Xifara (angxifara@gmail.com, Civil/Structural Engineer) and was processed by Athanasios Tsanas (tsanasthanasis@gmail.com, Oxford Centre for Industrial and Applied Mathematics, University of Oxford, UK).\n",
    "\n"
   ]
  },
  {
   "cell_type": "markdown",
   "metadata": {},
   "source": [
    "##  Import the important libraries and packages"
   ]
  },
  {
   "cell_type": "code",
   "execution_count": 90,
   "metadata": {},
   "outputs": [],
   "source": [
    "import numpy as np\n",
    "from matplotlib import pyplot as plt\n",
    "import pandas as pd"
   ]
  },
  {
   "cell_type": "markdown",
   "metadata": {},
   "source": [
    "## Load the dataset"
   ]
  },
  {
   "cell_type": "code",
   "execution_count": 91,
   "metadata": {},
   "outputs": [
    {
     "data": {
      "text/html": [
       "<div>\n",
       "<style scoped>\n",
       "    .dataframe tbody tr th:only-of-type {\n",
       "        vertical-align: middle;\n",
       "    }\n",
       "\n",
       "    .dataframe tbody tr th {\n",
       "        vertical-align: top;\n",
       "    }\n",
       "\n",
       "    .dataframe thead th {\n",
       "        text-align: right;\n",
       "    }\n",
       "</style>\n",
       "<table border=\"1\" class=\"dataframe\">\n",
       "  <thead>\n",
       "    <tr style=\"text-align: right;\">\n",
       "      <th></th>\n",
       "      <th>X1</th>\n",
       "      <th>X2</th>\n",
       "      <th>X3</th>\n",
       "      <th>X4</th>\n",
       "      <th>X5</th>\n",
       "      <th>X6</th>\n",
       "      <th>X7</th>\n",
       "      <th>X8</th>\n",
       "      <th>Y1</th>\n",
       "      <th>Y2</th>\n",
       "    </tr>\n",
       "  </thead>\n",
       "  <tbody>\n",
       "    <tr>\n",
       "      <th>0</th>\n",
       "      <td>0.98</td>\n",
       "      <td>514.5</td>\n",
       "      <td>294.0</td>\n",
       "      <td>110.25</td>\n",
       "      <td>7.0</td>\n",
       "      <td>2</td>\n",
       "      <td>0.0</td>\n",
       "      <td>0</td>\n",
       "      <td>15.55</td>\n",
       "      <td>21.33</td>\n",
       "    </tr>\n",
       "    <tr>\n",
       "      <th>1</th>\n",
       "      <td>0.98</td>\n",
       "      <td>514.5</td>\n",
       "      <td>294.0</td>\n",
       "      <td>110.25</td>\n",
       "      <td>7.0</td>\n",
       "      <td>3</td>\n",
       "      <td>0.0</td>\n",
       "      <td>0</td>\n",
       "      <td>15.55</td>\n",
       "      <td>21.33</td>\n",
       "    </tr>\n",
       "    <tr>\n",
       "      <th>2</th>\n",
       "      <td>0.98</td>\n",
       "      <td>514.5</td>\n",
       "      <td>294.0</td>\n",
       "      <td>110.25</td>\n",
       "      <td>7.0</td>\n",
       "      <td>4</td>\n",
       "      <td>0.0</td>\n",
       "      <td>0</td>\n",
       "      <td>15.55</td>\n",
       "      <td>21.33</td>\n",
       "    </tr>\n",
       "    <tr>\n",
       "      <th>3</th>\n",
       "      <td>0.98</td>\n",
       "      <td>514.5</td>\n",
       "      <td>294.0</td>\n",
       "      <td>110.25</td>\n",
       "      <td>7.0</td>\n",
       "      <td>5</td>\n",
       "      <td>0.0</td>\n",
       "      <td>0</td>\n",
       "      <td>15.55</td>\n",
       "      <td>21.33</td>\n",
       "    </tr>\n",
       "    <tr>\n",
       "      <th>4</th>\n",
       "      <td>0.90</td>\n",
       "      <td>563.5</td>\n",
       "      <td>318.5</td>\n",
       "      <td>122.50</td>\n",
       "      <td>7.0</td>\n",
       "      <td>2</td>\n",
       "      <td>0.0</td>\n",
       "      <td>0</td>\n",
       "      <td>20.84</td>\n",
       "      <td>28.28</td>\n",
       "    </tr>\n",
       "  </tbody>\n",
       "</table>\n",
       "</div>"
      ],
      "text/plain": [
       "     X1     X2     X3      X4   X5  X6   X7  X8     Y1     Y2\n",
       "0  0.98  514.5  294.0  110.25  7.0   2  0.0   0  15.55  21.33\n",
       "1  0.98  514.5  294.0  110.25  7.0   3  0.0   0  15.55  21.33\n",
       "2  0.98  514.5  294.0  110.25  7.0   4  0.0   0  15.55  21.33\n",
       "3  0.98  514.5  294.0  110.25  7.0   5  0.0   0  15.55  21.33\n",
       "4  0.90  563.5  318.5  122.50  7.0   2  0.0   0  20.84  28.28"
      ]
     },
     "execution_count": 91,
     "metadata": {},
     "output_type": "execute_result"
    }
   ],
   "source": [
    "data = pd.read_excel(r'C:\\Users\\amt\\Downloads\\ENB2012_data.xlsx')\n",
    "data.head()"
   ]
  },
  {
   "cell_type": "markdown",
   "metadata": {},
   "source": [
    "## Discover the dataset to detect missing values and data types\n",
    "\n",
    "It shows that the dataset has no missing values. The data types need not change for the moment"
   ]
  },
  {
   "cell_type": "code",
   "execution_count": 92,
   "metadata": {},
   "outputs": [
    {
     "name": "stdout",
     "output_type": "stream",
     "text": [
      "<class 'pandas.core.frame.DataFrame'>\n",
      "RangeIndex: 768 entries, 0 to 767\n",
      "Data columns (total 10 columns):\n",
      "X1    768 non-null float64\n",
      "X2    768 non-null float64\n",
      "X3    768 non-null float64\n",
      "X4    768 non-null float64\n",
      "X5    768 non-null float64\n",
      "X6    768 non-null int64\n",
      "X7    768 non-null float64\n",
      "X8    768 non-null int64\n",
      "Y1    768 non-null float64\n",
      "Y2    768 non-null float64\n",
      "dtypes: float64(8), int64(2)\n",
      "memory usage: 60.1 KB\n"
     ]
    }
   ],
   "source": [
    "data.info()"
   ]
  },
  {
   "cell_type": "markdown",
   "metadata": {},
   "source": [
    "Remove the Y2 column since it will not be used in our analysis"
   ]
  },
  {
   "cell_type": "code",
   "execution_count": 93,
   "metadata": {},
   "outputs": [
    {
     "data": {
      "text/html": [
       "<div>\n",
       "<style scoped>\n",
       "    .dataframe tbody tr th:only-of-type {\n",
       "        vertical-align: middle;\n",
       "    }\n",
       "\n",
       "    .dataframe tbody tr th {\n",
       "        vertical-align: top;\n",
       "    }\n",
       "\n",
       "    .dataframe thead th {\n",
       "        text-align: right;\n",
       "    }\n",
       "</style>\n",
       "<table border=\"1\" class=\"dataframe\">\n",
       "  <thead>\n",
       "    <tr style=\"text-align: right;\">\n",
       "      <th></th>\n",
       "      <th>X1</th>\n",
       "      <th>X2</th>\n",
       "      <th>X3</th>\n",
       "      <th>X4</th>\n",
       "      <th>X5</th>\n",
       "      <th>X6</th>\n",
       "      <th>X7</th>\n",
       "      <th>X8</th>\n",
       "      <th>Y1</th>\n",
       "    </tr>\n",
       "  </thead>\n",
       "  <tbody>\n",
       "    <tr>\n",
       "      <th>0</th>\n",
       "      <td>0.98</td>\n",
       "      <td>514.5</td>\n",
       "      <td>294.0</td>\n",
       "      <td>110.25</td>\n",
       "      <td>7.0</td>\n",
       "      <td>2</td>\n",
       "      <td>0.0</td>\n",
       "      <td>0</td>\n",
       "      <td>15.55</td>\n",
       "    </tr>\n",
       "    <tr>\n",
       "      <th>1</th>\n",
       "      <td>0.98</td>\n",
       "      <td>514.5</td>\n",
       "      <td>294.0</td>\n",
       "      <td>110.25</td>\n",
       "      <td>7.0</td>\n",
       "      <td>3</td>\n",
       "      <td>0.0</td>\n",
       "      <td>0</td>\n",
       "      <td>15.55</td>\n",
       "    </tr>\n",
       "    <tr>\n",
       "      <th>2</th>\n",
       "      <td>0.98</td>\n",
       "      <td>514.5</td>\n",
       "      <td>294.0</td>\n",
       "      <td>110.25</td>\n",
       "      <td>7.0</td>\n",
       "      <td>4</td>\n",
       "      <td>0.0</td>\n",
       "      <td>0</td>\n",
       "      <td>15.55</td>\n",
       "    </tr>\n",
       "    <tr>\n",
       "      <th>3</th>\n",
       "      <td>0.98</td>\n",
       "      <td>514.5</td>\n",
       "      <td>294.0</td>\n",
       "      <td>110.25</td>\n",
       "      <td>7.0</td>\n",
       "      <td>5</td>\n",
       "      <td>0.0</td>\n",
       "      <td>0</td>\n",
       "      <td>15.55</td>\n",
       "    </tr>\n",
       "    <tr>\n",
       "      <th>4</th>\n",
       "      <td>0.90</td>\n",
       "      <td>563.5</td>\n",
       "      <td>318.5</td>\n",
       "      <td>122.50</td>\n",
       "      <td>7.0</td>\n",
       "      <td>2</td>\n",
       "      <td>0.0</td>\n",
       "      <td>0</td>\n",
       "      <td>20.84</td>\n",
       "    </tr>\n",
       "  </tbody>\n",
       "</table>\n",
       "</div>"
      ],
      "text/plain": [
       "     X1     X2     X3      X4   X5  X6   X7  X8     Y1\n",
       "0  0.98  514.5  294.0  110.25  7.0   2  0.0   0  15.55\n",
       "1  0.98  514.5  294.0  110.25  7.0   3  0.0   0  15.55\n",
       "2  0.98  514.5  294.0  110.25  7.0   4  0.0   0  15.55\n",
       "3  0.98  514.5  294.0  110.25  7.0   5  0.0   0  15.55\n",
       "4  0.90  563.5  318.5  122.50  7.0   2  0.0   0  20.84"
      ]
     },
     "execution_count": 93,
     "metadata": {},
     "output_type": "execute_result"
    }
   ],
   "source": [
    "data.drop('Y2', axis=1, inplace = True)\n",
    "data.head()"
   ]
  },
  {
   "cell_type": "markdown",
   "metadata": {},
   "source": [
    "## Study the statistics of the dataset\n",
    "\n",
    "It is obvious that the dataset needs to be normalized due to the wide range of values that the attributes have.\n"
   ]
  },
  {
   "cell_type": "code",
   "execution_count": 94,
   "metadata": {},
   "outputs": [
    {
     "data": {
      "text/html": [
       "<div>\n",
       "<style scoped>\n",
       "    .dataframe tbody tr th:only-of-type {\n",
       "        vertical-align: middle;\n",
       "    }\n",
       "\n",
       "    .dataframe tbody tr th {\n",
       "        vertical-align: top;\n",
       "    }\n",
       "\n",
       "    .dataframe thead th {\n",
       "        text-align: right;\n",
       "    }\n",
       "</style>\n",
       "<table border=\"1\" class=\"dataframe\">\n",
       "  <thead>\n",
       "    <tr style=\"text-align: right;\">\n",
       "      <th></th>\n",
       "      <th>X1</th>\n",
       "      <th>X2</th>\n",
       "      <th>X3</th>\n",
       "      <th>X4</th>\n",
       "      <th>X5</th>\n",
       "      <th>X6</th>\n",
       "      <th>X7</th>\n",
       "      <th>X8</th>\n",
       "      <th>Y1</th>\n",
       "    </tr>\n",
       "  </thead>\n",
       "  <tbody>\n",
       "    <tr>\n",
       "      <th>count</th>\n",
       "      <td>768.000000</td>\n",
       "      <td>768.000000</td>\n",
       "      <td>768.000000</td>\n",
       "      <td>768.000000</td>\n",
       "      <td>768.00000</td>\n",
       "      <td>768.000000</td>\n",
       "      <td>768.000000</td>\n",
       "      <td>768.00000</td>\n",
       "      <td>768.000000</td>\n",
       "    </tr>\n",
       "    <tr>\n",
       "      <th>mean</th>\n",
       "      <td>0.764167</td>\n",
       "      <td>671.708333</td>\n",
       "      <td>318.500000</td>\n",
       "      <td>176.604167</td>\n",
       "      <td>5.25000</td>\n",
       "      <td>3.500000</td>\n",
       "      <td>0.234375</td>\n",
       "      <td>2.81250</td>\n",
       "      <td>22.307195</td>\n",
       "    </tr>\n",
       "    <tr>\n",
       "      <th>std</th>\n",
       "      <td>0.105777</td>\n",
       "      <td>88.086116</td>\n",
       "      <td>43.626481</td>\n",
       "      <td>45.165950</td>\n",
       "      <td>1.75114</td>\n",
       "      <td>1.118763</td>\n",
       "      <td>0.133221</td>\n",
       "      <td>1.55096</td>\n",
       "      <td>10.090204</td>\n",
       "    </tr>\n",
       "    <tr>\n",
       "      <th>min</th>\n",
       "      <td>0.620000</td>\n",
       "      <td>514.500000</td>\n",
       "      <td>245.000000</td>\n",
       "      <td>110.250000</td>\n",
       "      <td>3.50000</td>\n",
       "      <td>2.000000</td>\n",
       "      <td>0.000000</td>\n",
       "      <td>0.00000</td>\n",
       "      <td>6.010000</td>\n",
       "    </tr>\n",
       "    <tr>\n",
       "      <th>25%</th>\n",
       "      <td>0.682500</td>\n",
       "      <td>606.375000</td>\n",
       "      <td>294.000000</td>\n",
       "      <td>140.875000</td>\n",
       "      <td>3.50000</td>\n",
       "      <td>2.750000</td>\n",
       "      <td>0.100000</td>\n",
       "      <td>1.75000</td>\n",
       "      <td>12.992500</td>\n",
       "    </tr>\n",
       "    <tr>\n",
       "      <th>50%</th>\n",
       "      <td>0.750000</td>\n",
       "      <td>673.750000</td>\n",
       "      <td>318.500000</td>\n",
       "      <td>183.750000</td>\n",
       "      <td>5.25000</td>\n",
       "      <td>3.500000</td>\n",
       "      <td>0.250000</td>\n",
       "      <td>3.00000</td>\n",
       "      <td>18.950000</td>\n",
       "    </tr>\n",
       "    <tr>\n",
       "      <th>75%</th>\n",
       "      <td>0.830000</td>\n",
       "      <td>741.125000</td>\n",
       "      <td>343.000000</td>\n",
       "      <td>220.500000</td>\n",
       "      <td>7.00000</td>\n",
       "      <td>4.250000</td>\n",
       "      <td>0.400000</td>\n",
       "      <td>4.00000</td>\n",
       "      <td>31.667500</td>\n",
       "    </tr>\n",
       "    <tr>\n",
       "      <th>max</th>\n",
       "      <td>0.980000</td>\n",
       "      <td>808.500000</td>\n",
       "      <td>416.500000</td>\n",
       "      <td>220.500000</td>\n",
       "      <td>7.00000</td>\n",
       "      <td>5.000000</td>\n",
       "      <td>0.400000</td>\n",
       "      <td>5.00000</td>\n",
       "      <td>43.100000</td>\n",
       "    </tr>\n",
       "  </tbody>\n",
       "</table>\n",
       "</div>"
      ],
      "text/plain": [
       "               X1          X2          X3          X4         X5          X6  \\\n",
       "count  768.000000  768.000000  768.000000  768.000000  768.00000  768.000000   \n",
       "mean     0.764167  671.708333  318.500000  176.604167    5.25000    3.500000   \n",
       "std      0.105777   88.086116   43.626481   45.165950    1.75114    1.118763   \n",
       "min      0.620000  514.500000  245.000000  110.250000    3.50000    2.000000   \n",
       "25%      0.682500  606.375000  294.000000  140.875000    3.50000    2.750000   \n",
       "50%      0.750000  673.750000  318.500000  183.750000    5.25000    3.500000   \n",
       "75%      0.830000  741.125000  343.000000  220.500000    7.00000    4.250000   \n",
       "max      0.980000  808.500000  416.500000  220.500000    7.00000    5.000000   \n",
       "\n",
       "               X7         X8          Y1  \n",
       "count  768.000000  768.00000  768.000000  \n",
       "mean     0.234375    2.81250   22.307195  \n",
       "std      0.133221    1.55096   10.090204  \n",
       "min      0.000000    0.00000    6.010000  \n",
       "25%      0.100000    1.75000   12.992500  \n",
       "50%      0.250000    3.00000   18.950000  \n",
       "75%      0.400000    4.00000   31.667500  \n",
       "max      0.400000    5.00000   43.100000  "
      ]
     },
     "execution_count": 94,
     "metadata": {},
     "output_type": "execute_result"
    }
   ],
   "source": [
    "data.describe()"
   ]
  },
  {
   "cell_type": "markdown",
   "metadata": {},
   "source": [
    "## Study the correlation of the different attributes with the output\n",
    "\n",
    "Studying the correlation among the different attributes and the target variable 'Y1' helps in identifying the attributes that can be used to build a prediction model. For example, attributes X4 and X5 have strong correlation with Y1, therefore using them in the model construction will improve the error. However, using attribute X6 and X8 which have relatively low correlation with Y1 is less likely to improve the error that much."
   ]
  },
  {
   "cell_type": "code",
   "execution_count": 95,
   "metadata": {},
   "outputs": [
    {
     "data": {
      "text/html": [
       "<div>\n",
       "<style scoped>\n",
       "    .dataframe tbody tr th:only-of-type {\n",
       "        vertical-align: middle;\n",
       "    }\n",
       "\n",
       "    .dataframe tbody tr th {\n",
       "        vertical-align: top;\n",
       "    }\n",
       "\n",
       "    .dataframe thead th {\n",
       "        text-align: right;\n",
       "    }\n",
       "</style>\n",
       "<table border=\"1\" class=\"dataframe\">\n",
       "  <thead>\n",
       "    <tr style=\"text-align: right;\">\n",
       "      <th></th>\n",
       "      <th>X1</th>\n",
       "      <th>X2</th>\n",
       "      <th>X3</th>\n",
       "      <th>X4</th>\n",
       "      <th>X5</th>\n",
       "      <th>X6</th>\n",
       "      <th>X7</th>\n",
       "      <th>X8</th>\n",
       "      <th>Y1</th>\n",
       "    </tr>\n",
       "  </thead>\n",
       "  <tbody>\n",
       "    <tr>\n",
       "      <th>X1</th>\n",
       "      <td>1.000000e+00</td>\n",
       "      <td>-9.919015e-01</td>\n",
       "      <td>-2.037817e-01</td>\n",
       "      <td>-8.688234e-01</td>\n",
       "      <td>8.277473e-01</td>\n",
       "      <td>0.000000</td>\n",
       "      <td>1.283986e-17</td>\n",
       "      <td>1.764620e-17</td>\n",
       "      <td>0.622272</td>\n",
       "    </tr>\n",
       "    <tr>\n",
       "      <th>X2</th>\n",
       "      <td>-9.919015e-01</td>\n",
       "      <td>1.000000e+00</td>\n",
       "      <td>1.955016e-01</td>\n",
       "      <td>8.807195e-01</td>\n",
       "      <td>-8.581477e-01</td>\n",
       "      <td>0.000000</td>\n",
       "      <td>1.318356e-16</td>\n",
       "      <td>-3.558613e-16</td>\n",
       "      <td>-0.658120</td>\n",
       "    </tr>\n",
       "    <tr>\n",
       "      <th>X3</th>\n",
       "      <td>-2.037817e-01</td>\n",
       "      <td>1.955016e-01</td>\n",
       "      <td>1.000000e+00</td>\n",
       "      <td>-2.923165e-01</td>\n",
       "      <td>2.809757e-01</td>\n",
       "      <td>0.000000</td>\n",
       "      <td>-7.969726e-19</td>\n",
       "      <td>0.000000e+00</td>\n",
       "      <td>0.455671</td>\n",
       "    </tr>\n",
       "    <tr>\n",
       "      <th>X4</th>\n",
       "      <td>-8.688234e-01</td>\n",
       "      <td>8.807195e-01</td>\n",
       "      <td>-2.923165e-01</td>\n",
       "      <td>1.000000e+00</td>\n",
       "      <td>-9.725122e-01</td>\n",
       "      <td>0.000000</td>\n",
       "      <td>-1.381805e-16</td>\n",
       "      <td>-1.079129e-16</td>\n",
       "      <td>-0.861828</td>\n",
       "    </tr>\n",
       "    <tr>\n",
       "      <th>X5</th>\n",
       "      <td>8.277473e-01</td>\n",
       "      <td>-8.581477e-01</td>\n",
       "      <td>2.809757e-01</td>\n",
       "      <td>-9.725122e-01</td>\n",
       "      <td>1.000000e+00</td>\n",
       "      <td>0.000000</td>\n",
       "      <td>1.861418e-18</td>\n",
       "      <td>0.000000e+00</td>\n",
       "      <td>0.889430</td>\n",
       "    </tr>\n",
       "    <tr>\n",
       "      <th>X6</th>\n",
       "      <td>0.000000e+00</td>\n",
       "      <td>0.000000e+00</td>\n",
       "      <td>0.000000e+00</td>\n",
       "      <td>0.000000e+00</td>\n",
       "      <td>0.000000e+00</td>\n",
       "      <td>1.000000</td>\n",
       "      <td>0.000000e+00</td>\n",
       "      <td>0.000000e+00</td>\n",
       "      <td>-0.002587</td>\n",
       "    </tr>\n",
       "    <tr>\n",
       "      <th>X7</th>\n",
       "      <td>1.283986e-17</td>\n",
       "      <td>1.318356e-16</td>\n",
       "      <td>-7.969726e-19</td>\n",
       "      <td>-1.381805e-16</td>\n",
       "      <td>1.861418e-18</td>\n",
       "      <td>0.000000</td>\n",
       "      <td>1.000000e+00</td>\n",
       "      <td>2.129642e-01</td>\n",
       "      <td>0.269842</td>\n",
       "    </tr>\n",
       "    <tr>\n",
       "      <th>X8</th>\n",
       "      <td>1.764620e-17</td>\n",
       "      <td>-3.558613e-16</td>\n",
       "      <td>0.000000e+00</td>\n",
       "      <td>-1.079129e-16</td>\n",
       "      <td>0.000000e+00</td>\n",
       "      <td>0.000000</td>\n",
       "      <td>2.129642e-01</td>\n",
       "      <td>1.000000e+00</td>\n",
       "      <td>0.087368</td>\n",
       "    </tr>\n",
       "    <tr>\n",
       "      <th>Y1</th>\n",
       "      <td>6.222719e-01</td>\n",
       "      <td>-6.581199e-01</td>\n",
       "      <td>4.556714e-01</td>\n",
       "      <td>-8.618281e-01</td>\n",
       "      <td>8.894305e-01</td>\n",
       "      <td>-0.002587</td>\n",
       "      <td>2.698417e-01</td>\n",
       "      <td>8.736846e-02</td>\n",
       "      <td>1.000000</td>\n",
       "    </tr>\n",
       "  </tbody>\n",
       "</table>\n",
       "</div>"
      ],
      "text/plain": [
       "              X1            X2            X3            X4            X5  \\\n",
       "X1  1.000000e+00 -9.919015e-01 -2.037817e-01 -8.688234e-01  8.277473e-01   \n",
       "X2 -9.919015e-01  1.000000e+00  1.955016e-01  8.807195e-01 -8.581477e-01   \n",
       "X3 -2.037817e-01  1.955016e-01  1.000000e+00 -2.923165e-01  2.809757e-01   \n",
       "X4 -8.688234e-01  8.807195e-01 -2.923165e-01  1.000000e+00 -9.725122e-01   \n",
       "X5  8.277473e-01 -8.581477e-01  2.809757e-01 -9.725122e-01  1.000000e+00   \n",
       "X6  0.000000e+00  0.000000e+00  0.000000e+00  0.000000e+00  0.000000e+00   \n",
       "X7  1.283986e-17  1.318356e-16 -7.969726e-19 -1.381805e-16  1.861418e-18   \n",
       "X8  1.764620e-17 -3.558613e-16  0.000000e+00 -1.079129e-16  0.000000e+00   \n",
       "Y1  6.222719e-01 -6.581199e-01  4.556714e-01 -8.618281e-01  8.894305e-01   \n",
       "\n",
       "          X6            X7            X8        Y1  \n",
       "X1  0.000000  1.283986e-17  1.764620e-17  0.622272  \n",
       "X2  0.000000  1.318356e-16 -3.558613e-16 -0.658120  \n",
       "X3  0.000000 -7.969726e-19  0.000000e+00  0.455671  \n",
       "X4  0.000000 -1.381805e-16 -1.079129e-16 -0.861828  \n",
       "X5  0.000000  1.861418e-18  0.000000e+00  0.889430  \n",
       "X6  1.000000  0.000000e+00  0.000000e+00 -0.002587  \n",
       "X7  0.000000  1.000000e+00  2.129642e-01  0.269842  \n",
       "X8  0.000000  2.129642e-01  1.000000e+00  0.087368  \n",
       "Y1 -0.002587  2.698417e-01  8.736846e-02  1.000000  "
      ]
     },
     "execution_count": 95,
     "metadata": {},
     "output_type": "execute_result"
    }
   ],
   "source": [
    "data.corr()"
   ]
  },
  {
   "cell_type": "markdown",
   "metadata": {},
   "source": [
    "## Construct multiple regression models and choose the best"
   ]
  },
  {
   "cell_type": "code",
   "execution_count": 96,
   "metadata": {},
   "outputs": [],
   "source": [
    "# Import the necessary packages\n",
    "from sklearn.linear_model import Ridge\n",
    "from sklearn.linear_model import LogisticRegression\n",
    "from sklearn.tree import DecisionTreeClassifier\n",
    "from sklearn.preprocessing import StandardScaler\n",
    "from sklearn.preprocessing import PolynomialFeatures\n",
    "from sklearn.metrics import r2_score\n",
    "from sklearn.metrics import mean_squared_error\n",
    "from sklearn.metrics import jaccard_score"
   ]
  },
  {
   "cell_type": "code",
   "execution_count": 97,
   "metadata": {},
   "outputs": [],
   "source": [
    "# Randomly Shuffle the dataset \n",
    "data = data.sample(frac=1).reset_index(drop=True)\n",
    "\n",
    "# Select and normalize the features to build the model\n",
    "Xraw = data[['X1', 'X2', 'X3', 'X4', 'X5', 'X7']]\n",
    "y = data['Y1']\n",
    "\n",
    "X = StandardScaler().fit(Xraw).transform(Xraw)"
   ]
  },
  {
   "cell_type": "code",
   "execution_count": 98,
   "metadata": {},
   "outputs": [
    {
     "name": "stdout",
     "output_type": "stream",
     "text": [
      "x training data:  499\n",
      "y training data:  499\n",
      "x validation data:  153\n",
      "y training data:  153\n",
      "x testing data:  116\n",
      "y testing data:  116\n"
     ]
    }
   ],
   "source": [
    "# Split dataset into training, validation and testing subsets\n",
    "nmeas = len(X)\n",
    "x_train1 = X[0:int(0.65*nmeas),:]\n",
    "y_train1 = y[0:int(0.65*nmeas)]\n",
    "x_valid1 = X[int(0.65*nmeas):int(0.85*nmeas),:]\n",
    "y_valid1 = y[int(0.65*nmeas):int(0.85*nmeas)]\n",
    "x_test1 = X[int(0.85*nmeas):nmeas,:]\n",
    "y_test1 = y[int(0.85*nmeas):nmeas]\n",
    "\n",
    "print('x training data: ', len(x_train1))\n",
    "print('y training data: ', len(y_train1))\n",
    "print('x validation data: ', len(x_valid1))\n",
    "print('y training data: ', len(y_valid1))\n",
    "print('x testing data: ', len(x_test1))\n",
    "print('y testing data: ', len(y_test1))"
   ]
  },
  {
   "cell_type": "code",
   "execution_count": 99,
   "metadata": {},
   "outputs": [
    {
     "name": "stdout",
     "output_type": "stream",
     "text": [
      "MSE using validation dataset of model of order  1 :  [10.5846062  10.58451527 10.58360942 10.57487889 10.50668389 10.22827085\n",
      " 10.30590563 10.68639335 11.49196924 12.34256914 13.26158694]\n",
      "MSE using validation dataset of model of order  2 :  [ 1.12037064  1.20709799  1.32498954  3.28061863  6.6798646   7.74421495\n",
      "  8.07537481  8.343798    8.84859552  9.51307452 10.32077026]\n",
      "MSE using validation dataset of model of order  3 :  [0.33218047 0.33294215 0.34395244 0.51336265 1.97569426 5.3480266\n",
      " 5.99038966 6.39587534 6.97965339 7.47776887 7.92390659]\n",
      "MSE using validation dataset of model of order  4 :  [0.30886916 0.30899443 0.30906444 0.3231555  0.39713728 1.82138132\n",
      " 3.49519478 4.84476662 6.03222455 6.70156628 7.21242602]\n",
      "MSE using validation dataset of model of order  5 :  [0.31653165 0.31644291 0.31616406 0.31744405 0.35539137 0.96620084\n",
      " 2.0670227  3.32602791 4.62480344 5.30389075 5.75439584]\n",
      "MSE using validation dataset of model of order  6 :  [0.31695853 0.31692312 0.31663006 0.31551587 0.33185657 0.75159412\n",
      " 1.42038494 2.36540978 3.6967381  4.55289393 5.14936366]\n",
      "MSE using validation dataset of model of order  7 :  [0.31696176 0.3169548  0.31688642 0.31635678 0.32267326 0.62021038\n",
      " 1.11942728 1.79696595 2.81271939 3.55938878 4.13460547]\n",
      "MSE using validation dataset of model of order  8 :  [0.3169622  0.3169574  0.31691194 0.31653004 0.31899885 0.55043381\n",
      " 0.97833734 1.56039592 2.43255458 3.0825767  3.60111663]\n",
      "MSE using validation dataset of model of order  9 :  [0.31696248 0.31695908 0.31692667 0.31664498 0.31752801 0.4911324\n",
      " 0.86390858 1.36936345 2.11785787 2.68303755 3.13801173]\n",
      "MSE using validation dataset of model of order  10 :  [0.31694626 0.31696044 0.31693438 0.31670918 0.31688763 0.4498501\n",
      " 0.78423921 1.2588341  1.94140262 2.44947642 2.86310093]\n"
     ]
    }
   ],
   "source": [
    "# Train a regression model for different values of regularization and choose the regularization that minimizes the validation\n",
    "# error. \n",
    "order = np.arange(1,11)\n",
    "alphas = [0.0001, 0.001, 0.01, 0.1, 1, 10, 25, 50, 100, 150, 200]\n",
    "MSE_valid = np.zeros((len(order),len(alphas)))\n",
    "#R_sq_valid = np.zeros((len(order),len(alphas)))\n",
    "for n in order:\n",
    "    for a in range(0,len(alphas)):\n",
    "        x_train_poly1 = PolynomialFeatures(n).fit_transform(x_train1)\n",
    "        x_valid_poly1 = PolynomialFeatures(n).fit_transform(x_valid1)\n",
    "        model_reg = Ridge(alpha=alphas[a]).fit(x_train_poly1,y_train1)\n",
    "        y_pred1 = model_reg.predict(x_valid_poly1)\n",
    "        MSE_valid[n-1,a] = mean_squared_error(y_valid1,y_pred1)\n",
    "        #R_sq_valid[n-1,a] = r2_score(y_valid1,y_pred1)\n",
    "    print('MSE using validation dataset of model of order ', n, ': ', MSE_valid[n-1,:])\n",
    "    #print('R-squared of model of order ', n, ': ', R_sq_valid[n-1,:])\n"
   ]
  },
  {
   "cell_type": "code",
   "execution_count": 100,
   "metadata": {},
   "outputs": [
    {
     "name": "stdout",
     "output_type": "stream",
     "text": [
      "MSE using testing dataset of model of order  1 :  [12.20693571]\n",
      "MSE using testing dataset of model of order  2 :  [1.25084704]\n",
      "MSE using testing dataset of model of order  3 :  [0.15597385]\n",
      "MSE using testing dataset of model of order  4 :  [0.13828104]\n",
      "MSE using testing dataset of model of order  5 :  [0.1364591]\n",
      "MSE using testing dataset of model of order  6 :  [0.13630657]\n",
      "MSE using testing dataset of model of order  7 :  [0.1358567]\n",
      "MSE using testing dataset of model of order  8 :  [0.13573733]\n",
      "MSE using testing dataset of model of order  9 :  [0.13568026]\n",
      "MSE using testing dataset of model of order  10 :  [0.13565139]\n",
      "\n",
      "Regularization:  [5, 0, 0, 0, 2, 3, 3, 3, 3, 3]\n"
     ]
    }
   ],
   "source": [
    "# Repeat the same process for different regression models of different orders, and choose the model that minimizes the\n",
    "# testing error\n",
    "chosen_alpha = []\n",
    "MSE_test = np.zeros((len(order),1))\n",
    "#R_sq_test = np.zeros((len(order),1))\n",
    "for n in order:\n",
    "    x_test_poly1 = PolynomialFeatures(n).fit_transform(x_test1)\n",
    "    chosen_alpha.append(np.argmin(MSE_valid[n-1,:]))\n",
    "    model_reg = Ridge(alpha=alphas[chosen_alpha[n-1]]).fit(x_test_poly1,y_test1)\n",
    "    y_pred1 = model_reg.predict(x_test_poly1)\n",
    "    MSE_test[n-1] = mean_squared_error(y_test1,y_pred1)\n",
    "    #R_sq_test[n-1] = r2_score(y_test1,y_pred1)\n",
    "    print('MSE using testing dataset of model of order ', n, ': ', MSE_test[n-1])\n",
    "    #print('R-squared using testing dataset of model of order ', n, ': ', R_sq_test[n-1])\n",
    "print('\\nRegularization: ', chosen_alpha)"
   ]
  },
  {
   "cell_type": "code",
   "execution_count": 101,
   "metadata": {},
   "outputs": [
    {
     "data": {
      "text/plain": [
       "Text(0.5, 0, 'Polynomial Order')"
      ]
     },
     "execution_count": 101,
     "metadata": {},
     "output_type": "execute_result"
    },
    {
     "data": {
      "image/png": "[encoded data removed]",
      "text/plain": [
       "<Figure size 432x288 with 1 Axes>"
      ]
     },
     "metadata": {
      "needs_background": "light"
     },
     "output_type": "display_data"
    }
   ],
   "source": [
    "# Plot the MSE and R-squared to choose the best order of polynomial\n",
    "#fig, axes = plt.subplots(1, 1, figsize=(10,5))\n",
    "#axes[0].plot(order,R_sq_test)\n",
    "#axes[0].set_ylabel('R-squared score')\n",
    "#axes[0].set_xlabel('Polynomial Order')\n",
    "\n",
    "plt.plot(order,MSE_test)\n",
    "plt.ylabel('Mean Squared Error')\n",
    "plt.xlabel('Polynomial Order')"
   ]
  },
  {
   "cell_type": "markdown",
   "metadata": {},
   "source": [
    "The model that minimizes the testing MSE is the one with polynomial order 6 with regularization alpha=0.01"
   ]
  },
  {
   "cell_type": "markdown",
   "metadata": {},
   "source": [
    "Check the effect of adding the attribute 'X8' that had low correlation with 'Y1' on MSE but still higher than the attribute 'X6'"
   ]
  },
  {
   "cell_type": "code",
   "execution_count": 102,
   "metadata": {},
   "outputs": [
    {
     "name": "stdout",
     "output_type": "stream",
     "text": [
      "MSE using validation dataset of model of order  1 :  [10.68234224 10.68225942 10.6814348  10.67352073 10.61359765 10.39820432\n",
      " 10.52893427 10.94158882 11.74633025 12.5697729  13.45412978]\n",
      "MSE using validation dataset of model of order  2 :  [ 0.94526626  1.04119149  1.17469242  3.17977148  6.62309917  7.7379236\n",
      "  8.10205288  8.39355716  8.89976937  9.53282665 10.29145627]\n",
      "MSE using validation dataset of model of order  3 :  [0.34950546 0.35007379 0.35884228 0.52130834 1.9783622  5.40836358\n",
      " 6.12273786 6.60390143 7.26081304 7.78287653 8.2300532 ]\n",
      "MSE using validation dataset of model of order  4 :  [0.32911565 0.3305238  0.32841723 0.33924383 0.40976885 1.88280286\n",
      " 3.60474544 5.01620694 6.30348387 7.04034763 7.59409368]\n",
      "MSE using validation dataset of model of order  5 :  [0.30697668 0.30687418 0.31088201 0.32332931 0.36759296 1.01090754\n",
      " 2.13433682 3.41954586 4.78580305 5.52640184 6.0234117 ]\n",
      "MSE using validation dataset of model of order  6 :  [0.33408502 0.333508   0.33414301 0.32800553 0.34033316 0.75789283\n",
      " 1.38070623 2.26278442 3.55125353 4.42770828 5.06814971]\n",
      "MSE using validation dataset of model of order  7 :  [0.98670185 0.40354214 0.33107503 0.33477078 0.33960372 0.63715874\n",
      " 1.08005312 1.67702572 2.60725162 3.31544151 3.87722398]\n",
      "MSE using validation dataset of model of order  8 :  [2.75145486 1.20994902 0.61070406 0.35125846 0.3487982  0.57343118\n",
      " 0.96002627 1.44673406 2.16492956 2.72259255 3.18486566]\n",
      "MSE using validation dataset of model of order  9 :  [5.75192956 3.31608416 1.22644612 0.43168081 0.34846094 0.53111869\n",
      " 0.85423537 1.27526095 1.87203014 2.31878972 2.68822853]\n",
      "MSE using validation dataset of model of order  10 :  [0.62222145 0.6178839  0.58004127 0.42412831 0.34764975 0.507562\n",
      " 0.80077934 1.17932836 1.71501631 2.1073417  2.42442051]\n"
     ]
    }
   ],
   "source": [
    "# Select and normalize the features to build the model\n",
    "Xraw = data.drop(['X6','Y1'], axis=1)\n",
    "y = data['Y1']\n",
    "\n",
    "X = StandardScaler().fit(Xraw).transform(Xraw)\n",
    "\n",
    "# Split dataset into training, validation and testing subsets\n",
    "nmeas = len(X)\n",
    "x_train1 = X[0:int(0.65*nmeas),:]\n",
    "y_train1 = y[0:int(0.65*nmeas)]\n",
    "x_valid1 = X[int(0.65*nmeas):int(0.85*nmeas),:]\n",
    "y_valid1 = y[int(0.65*nmeas):int(0.85*nmeas)]\n",
    "x_test1 = X[int(0.85*nmeas):nmeas,:]\n",
    "y_test1 = y[int(0.85*nmeas):nmeas]\n",
    "\n",
    "\n",
    "# Train a regression model for different values of regularization and choose the regularization that minimizes the validation\n",
    "# error. \n",
    "order = np.arange(1,11)\n",
    "alphas = [0.0001, 0.001, 0.01, 0.1, 1, 10, 25, 50, 100, 150, 200]\n",
    "MSE_valid = np.zeros((len(order),len(alphas)))\n",
    "#R_sq_valid = np.zeros((len(order),len(alphas)))\n",
    "for n in order:\n",
    "    for a in range(0,len(alphas)):\n",
    "        x_train_poly1 = PolynomialFeatures(n).fit_transform(x_train1)\n",
    "        x_valid_poly1 = PolynomialFeatures(n).fit_transform(x_valid1)\n",
    "        model_reg = Ridge(alpha=alphas[a]).fit(x_train_poly1,y_train1)\n",
    "        y_pred1 = model_reg.predict(x_valid_poly1)\n",
    "        MSE_valid[n-1,a] = mean_squared_error(y_valid1,y_pred1)\n",
    "        #R_sq_valid[n-1,a] = r2_score(y_valid1,y_pred1)\n",
    "    print('MSE using validation dataset of model of order ', n, ': ', MSE_valid[n-1,:])\n",
    "    #print('R-squared of model of order ', n, ': ', R_sq_valid[n-1,:])\n",
    "    "
   ]
  },
  {
   "cell_type": "code",
   "execution_count": 103,
   "metadata": {},
   "outputs": [
    {
     "name": "stdout",
     "output_type": "stream",
     "text": [
      "MSE using testing dataset of model of order  1 :  [11.66945333]\n",
      "MSE using testing dataset of model of order  2 :  [0.93948319]\n",
      "MSE using testing dataset of model of order  3 :  [0.09238244]\n",
      "MSE using testing dataset of model of order  4 :  [0.03773165]\n",
      "MSE using testing dataset of model of order  5 :  [0.02095403]\n",
      "MSE using testing dataset of model of order  6 :  [0.02151435]\n",
      "MSE using testing dataset of model of order  7 :  [0.02071592]\n",
      "MSE using testing dataset of model of order  8 :  [0.02994722]\n",
      "MSE using testing dataset of model of order  9 :  [0.02640612]\n",
      "MSE using testing dataset of model of order  10 :  [0.02477857]\n",
      "\n",
      "Regularization index:  [5, 0, 0, 2, 1, 3, 2, 4, 4, 4]\n"
     ]
    }
   ],
   "source": [
    "# Repeat the same process for different regression models of different orders, and choose the model that minimizes the\n",
    "# testing error\n",
    "chosen_alpha = []\n",
    "MSE_test = np.zeros((len(order),1))\n",
    "#R_sq_test = np.zeros((len(order),1))\n",
    "for n in order:\n",
    "    x_test_poly1 = PolynomialFeatures(n).fit_transform(x_test1)\n",
    "    chosen_alpha.append(np.argmin(MSE_valid[n-1,:]))\n",
    "    model_reg = Ridge(alpha=alphas[chosen_alpha[n-1]]).fit(x_test_poly1,y_test1)\n",
    "    y_pred1 = model_reg.predict(x_test_poly1)\n",
    "    MSE_test[n-1] = mean_squared_error(y_test1,y_pred1)\n",
    "    #R_sq_test[n-1] = r2_score(y_test1,y_pred1)\n",
    "    print('MSE using testing dataset of model of order ', n, ': ', MSE_test[n-1])\n",
    "    #print('R-squared of model of order ', n, ': ', R_sq_test[n-1])\n",
    "print('\\nRegularization index: ', chosen_alpha)"
   ]
  },
  {
   "cell_type": "code",
   "execution_count": 104,
   "metadata": {},
   "outputs": [
    {
     "data": {
      "text/plain": [
       "Text(0.5, 0, 'Polynomial Order')"
      ]
     },
     "execution_count": 104,
     "metadata": {},
     "output_type": "execute_result"
    },
    {
     "data": {
      "image/png": "[encoded data removed]",
      "text/plain": [
       "<Figure size 432x288 with 1 Axes>"
      ]
     },
     "metadata": {
      "needs_background": "light"
     },
     "output_type": "display_data"
    }
   ],
   "source": [
    "# Plot the MSE and R-squared to choose the best order of polynomial\n",
    "#fig, axes = plt.subplots(1, 1, figsize=(10,5))\n",
    "#axes[0].plot(order,R_sq_test)\n",
    "#axes[0].set_ylabel('R-squared score')\n",
    "#axes[0].set_xlabel('Polynomial Order')\n",
    "\n",
    "plt.plot(order,MSE_test)\n",
    "plt.ylabel('Mean Squared Error')\n",
    "plt.xlabel('Polynomial Order')"
   ]
  },
  {
   "cell_type": "markdown",
   "metadata": {},
   "source": [
    "We notice a significant drop in MSE after adding the attribute 'X8', where the best result is obtained when using polynomial of order 7 with regularization alpha=0.01 \n",
    "\n",
    "So, let us see the effect of adding also the attribute 'X6'"
   ]
  },
  {
   "cell_type": "code",
   "execution_count": 105,
   "metadata": {},
   "outputs": [
    {
     "name": "stdout",
     "output_type": "stream",
     "text": [
      "MSE using validation dataset of model of order  1 :  [10.68816689 10.6880807  10.68722278 10.67901344 10.61838668 10.41894016\n",
      " 10.56829022 10.99494911 11.80620891 12.62814965 13.5090209 ]\n",
      "MSE using validation dataset of model of order  2 :  [ 0.95976409  1.05794198  1.19921494  3.26922384  6.7712825   7.9363177\n",
      "  8.31288575  8.5901185   9.05846222  9.66325521 10.40281776]\n",
      "MSE using validation dataset of model of order  3 :  [0.32830039 0.32933977 0.34201695 0.54519555 2.31838649 6.07052095\n",
      " 6.79031547 7.26041491 7.86192971 8.32096289 8.71191282]\n",
      "MSE using validation dataset of model of order  4 :  [0.28783854 0.28919745 0.28497381 0.29803605 0.40423515 2.38309629\n",
      " 4.41679556 5.97368464 7.31422541 8.0270024  8.52833123]\n",
      "MSE using validation dataset of model of order  5 :  [0.40361045 0.39945569 0.37770618 0.36467371 0.40708497 1.47258383\n",
      " 3.05691214 4.59556698 6.08082983 6.85402016 7.36372342]\n",
      "MSE using validation dataset of model of order  6 :  [68.41189712 12.93418643  1.88316276  0.9334592   0.76090787  1.24178991\n",
      "  2.08161068  3.30610142  4.94871002  5.96454667  6.66086725]\n",
      "MSE using validation dataset of model of order  7 :  [59.94675864 38.45217379 12.31159052  4.44297745  2.98196551  2.89721512\n",
      "  2.57910985  2.86076527  3.97738887  4.94676382  5.69854454]\n",
      "MSE using validation dataset of model of order  8 :  [53.41821998 52.91708953 48.40960088 26.23528107  6.80630416  7.68066215\n",
      "  7.02863853  5.76681028  4.69491368  4.58691234  4.84874818]\n",
      "MSE using validation dataset of model of order  9 :  [35.24187814 35.21154078 34.91062545 32.15016523 20.21420902 18.47196751\n",
      " 18.72984436 17.16246776 14.04761188 11.92647491 10.54981709]\n",
      "MSE using validation dataset of model of order  10 :  [90.9363436  90.86231363 90.12892141 83.42469151 49.0180002  36.5009586\n",
      " 48.5371533  51.46794611 45.28677531 38.11638822 32.17959575]\n"
     ]
    }
   ],
   "source": [
    "# Select and normalize the features to build the model\n",
    "Xraw = data.drop(['Y1'], axis=1)\n",
    "y = data['Y1']\n",
    "\n",
    "X = StandardScaler().fit(Xraw).transform(Xraw)\n",
    "\n",
    "# Split dataset into training (65%), validation(20%) and testing(15%) subsets\n",
    "nmeas = len(X)\n",
    "x_train1 = X[0:int(0.65*nmeas),:]\n",
    "y_train1 = y[0:int(0.65*nmeas)]\n",
    "x_valid1 = X[int(0.65*nmeas):int(0.85*nmeas),:]\n",
    "y_valid1 = y[int(0.65*nmeas):int(0.85*nmeas)]\n",
    "x_test1 = X[int(0.85*nmeas):nmeas,:]\n",
    "y_test1 = y[int(0.85*nmeas):nmeas]\n",
    "\n",
    "\n",
    "# Train a regression model for different values of regularization and choose the regularization that minimizes the validation\n",
    "# error. \n",
    "order = np.arange(1,11)\n",
    "alphas = [0.0001, 0.001, 0.01, 0.1, 1, 10, 25, 50, 100, 150, 200]\n",
    "MSE_valid = np.zeros((len(order),len(alphas)))\n",
    "#R_sq_valid = np.zeros((len(order),len(alphas)))\n",
    "for n in order:\n",
    "    for a in range(0,len(alphas)):\n",
    "        x_train_poly1 = PolynomialFeatures(n).fit_transform(x_train1)\n",
    "        x_valid_poly1 = PolynomialFeatures(n).fit_transform(x_valid1)\n",
    "        model_reg = Ridge(alpha=alphas[a]).fit(x_train_poly1,y_train1)\n",
    "        y_pred1 = model_reg.predict(x_valid_poly1)\n",
    "        MSE_valid[n-1,a] = mean_squared_error(y_valid1,y_pred1)\n",
    "        #R_sq_valid[n-1,a] = r2_score(y_valid1,y_pred1)\n",
    "    print('MSE using validation dataset of model of order ', n, ': ', MSE_valid[n-1,:])\n",
    "    #print('R-squared of model of order ', n, ': ', R_sq_valid[n-1,:])"
   ]
  },
  {
   "cell_type": "code",
   "execution_count": 106,
   "metadata": {},
   "outputs": [
    {
     "name": "stdout",
     "output_type": "stream",
     "text": [
      "MSE using testing dataset of model of order  1 :  [11.43236574]\n",
      "MSE using testing dataset of model of order  2 :  [0.86608574]\n",
      "MSE using testing dataset of model of order  3 :  [0.03855985]\n",
      "MSE using testing dataset of model of order  4 :  [0.00125492]\n",
      "MSE using testing dataset of model of order  5 :  [0.00029704]\n",
      "MSE using testing dataset of model of order  6 :  [0.00496122]\n",
      "MSE using testing dataset of model of order  7 :  [0.3531342]\n",
      "MSE using testing dataset of model of order  8 :  [1.56696396]\n",
      "MSE using testing dataset of model of order  9 :  [1.50119685]\n",
      "MSE using testing dataset of model of order  10 :  [1.21666361]\n",
      "\n",
      "Regularization index:  [5, 0, 0, 2, 3, 4, 6, 9, 10, 10]\n"
     ]
    }
   ],
   "source": [
    "# Repeat the same process for different regression models of different orders, and choose the model that minimizes the\n",
    "# testing error\n",
    "chosen_alpha = []\n",
    "MSE_test = np.zeros((len(order),1))\n",
    "#R_sq_test = np.zeros((len(order),1))\n",
    "for n in order:\n",
    "    x_test_poly1 = PolynomialFeatures(n).fit_transform(x_test1)\n",
    "    chosen_alpha.append(np.argmin(MSE_valid[n-1,:]))\n",
    "    model_reg = Ridge(alpha=alphas[chosen_alpha[n-1]]).fit(x_test_poly1,y_test1)\n",
    "    y_pred1 = model_reg.predict(x_test_poly1)\n",
    "    MSE_test[n-1] = mean_squared_error(y_test1,y_pred1)\n",
    "    #R_sq_test[n-1] = r2_score(y_test1,y_pred1)\n",
    "    print('MSE using testing dataset of model of order ', n, ': ', MSE_test[n-1])\n",
    "    #print('R-squared of model of order ', n, ': ', R_sq_test[n-1])\n",
    "print('\\nRegularization index: ', chosen_alpha)"
   ]
  },
  {
   "cell_type": "code",
   "execution_count": 107,
   "metadata": {},
   "outputs": [
    {
     "data": {
      "text/plain": [
       "Text(0.5, 0, 'Polynomial Order')"
      ]
     },
     "execution_count": 107,
     "metadata": {},
     "output_type": "execute_result"
    },
    {
     "data": {
      "image/png": "[encoded data removed]",
      "text/plain": [
       "<Figure size 432x288 with 1 Axes>"
      ]
     },
     "metadata": {
      "needs_background": "light"
     },
     "output_type": "display_data"
    }
   ],
   "source": [
    "# Plot the MSE and R-squared to choose the best order of polynomial\n",
    "#fig, axes = plt.subplots(1, 1, figsize=(10,5))\n",
    "#axes[0].plot(order,R_sq_test)\n",
    "#axes[0].set_ylabel('R-squared score')\n",
    "#axes[0].set_xlabel('Polynomial Order')\n",
    "\n",
    "plt.plot(order,MSE_test)\n",
    "plt.ylabel('Mean Squared Error')\n",
    "plt.xlabel('Polynomial Order')"
   ]
  },
  {
   "cell_type": "markdown",
   "metadata": {},
   "source": [
    "We notice a further drop in the MSE when using all available attributes to build the regression model. The best result is obtained for a polynomial of order 5 with regularization alpha = 0.1"
   ]
  },
  {
   "cell_type": "markdown",
   "metadata": {},
   "source": [
    "## Construct a classification model using Logistic Regression and Decision Trees"
   ]
  },
  {
   "cell_type": "markdown",
   "metadata": {},
   "source": [
    "Divide the heating load measurments from having continuous values to 'Low', 'Medium' or 'High' heating load as follows:\n",
    "\n",
    "| Heating Load | Class     |\n",
    "| -------------  |:-----------------         |\n",
    "| Less than or equal to 15             | Low      |\n",
    "| Between 15 and 30      | Medium              | \n",
    "| Higher than or equal to 30 | High           | \n"
   ]
  },
  {
   "cell_type": "code",
   "execution_count": 126,
   "metadata": {},
   "outputs": [],
   "source": [
    "# Add a column to the dataset that divides the column 'Y1' into distinct classes\n",
    "data['Y1_cat'] = pd.cut(data['Y1'],bins = [0,15,30,50], labels=['Low', 'Medium', 'High'])\n",
    "data['Y1_cat'] = data['Y1_cat'].astype(str)"
   ]
  },
  {
   "cell_type": "code",
   "execution_count": 127,
   "metadata": {},
   "outputs": [
    {
     "data": {
      "text/plain": [
       "Low       285\n",
       "Medium    282\n",
       "High      201\n",
       "Name: Y1_cat, dtype: int64"
      ]
     },
     "execution_count": 127,
     "metadata": {},
     "output_type": "execute_result"
    }
   ],
   "source": [
    "data['Y1_cat'].value_counts()"
   ]
  },
  {
   "cell_type": "markdown",
   "metadata": {},
   "source": [
    "### Logistic Regression"
   ]
  },
  {
   "cell_type": "code",
   "execution_count": 128,
   "metadata": {},
   "outputs": [
    {
     "name": "stdout",
     "output_type": "stream",
     "text": [
      "Jaccard Score using validation dataset:  [0.7172027203316315, 0.7394136248954772, 0.7498877920049111, 0.7498877920049111, 0.7698347682077343, 0.7698347682077343, 0.770564457785741, 0.770564457785741, 0.7608805831150687, 0.770564457785741, 0.7803647942911005, 0.7803647942911005, 0.7803647942911005, 0.7803647942911005, 0.7803647942911005, 0.7803647942911005, 0.7803647942911005, 0.7902869677927484, 0.7902869677927484, 0.7902869677927484, 0.7902869677927484, 0.7902869677927484, 0.7902869677927484, 0.8010722952762572, 0.8010722952762572, 0.8010722952762572, 0.8010722952762572, 0.8010722952762572, 0.8010722952762572, 0.8010722952762572]\n"
     ]
    },
    {
     "data": {
      "text/plain": [
       "Text(0, 0.5, 'Jaccard Score')"
      ]
     },
     "execution_count": 128,
     "metadata": {},
     "output_type": "execute_result"
    },
    {
     "data": {
      "image/png": "[encoded data removed]",
      "text/plain": [
       "<Figure size 432x288 with 1 Axes>"
      ]
     },
     "metadata": {
      "needs_background": "light"
     },
     "output_type": "display_data"
    }
   ],
   "source": [
    "# Split dataset into training and testing subsets. Use all attributes as we now know that they improved the testing error\n",
    "# when using regression\n",
    "Xraw2 = data.drop(['Y1', 'Y1_cat'], axis=1)\n",
    "X2 = StandardScaler().fit(Xraw2).transform(Xraw2)\n",
    "y2 = data['Y1_cat']\n",
    "\n",
    "# Split dataset into training, validation and testing subsets\n",
    "nmeas = len(X2)\n",
    "x_train3 = X2[0:int(0.65*nmeas),:]\n",
    "y_train3 = y2[0:int(0.65*nmeas)]\n",
    "x_valid3 = X2[int(0.65*nmeas):int(0.85*nmeas),:]\n",
    "y_valid3 = y2[int(0.65*nmeas):int(0.85*nmeas)]\n",
    "x_test3 = X2[int(0.85*nmeas):nmeas,:]\n",
    "y_test3 = y2[int(0.85*nmeas):nmeas]\n",
    "\n",
    "# Construct the model\n",
    "jacc = []\n",
    "Cs = np.arange(0.1,300,10)\n",
    "for n in Cs:\n",
    "    model_logreg = LogisticRegression(random_state=0, solver='newton-cg', multi_class='multinomial', C=n).fit(x_train3,y_train3)\n",
    "    y_pred3 = model_logreg.predict(x_valid3)\n",
    "    jacc.append(jaccard_score(y_valid3,y_pred3, average='weighted'))\n",
    "print('Jaccard Score using validation dataset: ', jacc)\n",
    "plt.plot(Cs, jacc)\n",
    "plt.xlabel('Regularization ')\n",
    "plt.ylabel('Jaccard Score')\n"
   ]
  },
  {
   "cell_type": "markdown",
   "metadata": {},
   "source": [
    "Based on the Jaccard scores, using C = 230 is a good choice"
   ]
  },
  {
   "cell_type": "code",
   "execution_count": 129,
   "metadata": {},
   "outputs": [
    {
     "name": "stdout",
     "output_type": "stream",
     "text": [
      "\n",
      "Jaccard Score using testing dataset:  0.6677385490815962\n"
     ]
    }
   ],
   "source": [
    "# Construct a model that corresponds to the regularization that maximizes the jaccard's score and calculate the jaccard score\n",
    "# using the testing dataset\n",
    "\n",
    "model_logreg = LogisticRegression(random_state=0, solver='newton-cg', multi_class='multinomial', C=230).fit(x_train3,y_train3)\n",
    "\n",
    "print('\\nJaccard Score using testing dataset: ', jaccard_score(y_test3,model_logreg.predict(x_test3), average='weighted'))"
   ]
  },
  {
   "cell_type": "markdown",
   "metadata": {},
   "source": [
    "### Decsion Trees"
   ]
  },
  {
   "cell_type": "code",
   "execution_count": 130,
   "metadata": {},
   "outputs": [
    {
     "name": "stdout",
     "output_type": "stream",
     "text": [
      "Jaccard Score using validation dataset:  [0.40349359038860155, 0.6846277280414668, 0.7674614305750351, 0.9250876890345583, 0.8665150198010239, 0.9743192574835577, 0.9743230625583565, 0.9870469399881163, 0.9870469399881163, 0.9870469399881163, 0.9870469399881163, 0.9870469399881163, 0.9870469399881163, 0.9870469399881163, 0.9870469399881163]\n"
     ]
    },
    {
     "data": {
      "text/plain": [
       "Text(0, 0.5, 'Jaccard Score')"
      ]
     },
     "execution_count": 130,
     "metadata": {},
     "output_type": "execute_result"
    },
    {
     "data": {
      "image/png": "[encoded data removed]",
      "text/plain": [
       "<Figure size 432x288 with 1 Axes>"
      ]
     },
     "metadata": {
      "needs_background": "light"
     },
     "output_type": "display_data"
    }
   ],
   "source": [
    "# Construct different models using decision trees of different depths\n",
    "\n",
    "max_dep = np.arange(1,16)\n",
    "jacc = []\n",
    "for n in max_dep:\n",
    "    model_tree = DecisionTreeClassifier(random_state =0, max_depth=n).fit(x_train3,y_train3)\n",
    "    y_pred4 = model_tree.predict(x_valid3)\n",
    "    jacc.append(jaccard_score(y_valid3,y_pred4, average='weighted'))\n",
    "    \n",
    "print('Jaccard Score using validation dataset: ', jacc)\n",
    "plt.plot(max_dep, jacc)\n",
    "plt.xlabel('Maximum Depth ')\n",
    "plt.ylabel('Jaccard Score')"
   ]
  },
  {
   "cell_type": "markdown",
   "metadata": {},
   "source": [
    "Based on the Jaccard scores, using maximum depth of 8 is a good choice"
   ]
  },
  {
   "cell_type": "code",
   "execution_count": 131,
   "metadata": {},
   "outputs": [
    {
     "name": "stdout",
     "output_type": "stream",
     "text": [
      "Jaccard Score using testing dataset:  0.9830901856763926\n"
     ]
    }
   ],
   "source": [
    "# Re-construct a decision tree using maximum depth of 8 and compute the jaccard score using the testing dataset to compare it\n",
    "# with the one obtained using logistic regression\n",
    "\n",
    "\n",
    "model_tree = DecisionTreeClassifier(random_state =0, max_depth=8).fit(x_train3,y_train3)\n",
    "y_pred4 = model_tree.predict(x_test3)\n",
    "    \n",
    "print('Jaccard Score using testing dataset: ', jaccard_score(y_test3,y_pred4, average='weighted'))\n"
   ]
  },
  {
   "cell_type": "markdown",
   "metadata": {},
   "source": [
    "### Using a decision tree of depth 8 gives a much better jaccard similarity score; computed using testing dataset, than using logistic regression model with C=230"
   ]
  },
  {
   "cell_type": "code",
   "execution_count": null,
   "metadata": {},
   "outputs": [],
   "source": []
  }
 ],
 "metadata": {
  "kernelspec": {
   "display_name": "Python 3",
   "language": "python",
   "name": "python3"
  },
  "language_info": {
   "codemirror_mode": {
    "name": "ipython",
    "version": 3
   },
   "file_extension": ".py",
   "mimetype": "text/x-python",
   "name": "python",
   "nbconvert_exporter": "python",
   "pygments_lexer": "ipython3",
   "version": "3.7.3"
  }
 },
 "nbformat": 4,
 "nbformat_minor": 2
}
